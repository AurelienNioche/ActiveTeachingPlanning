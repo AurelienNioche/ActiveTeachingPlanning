{
 "cells": [
  {
   "cell_type": "code",
   "execution_count": 12,
   "id": "0f5c6e3c",
   "metadata": {},
   "outputs": [],
   "source": [
    "from typing import Union\n",
    "\n",
    "import pandas as pd\n",
    "import matplotlib.pyplot as plt\n",
    "import seaborn as sns\n",
    "import scipy\n",
    "import numpy as np\n",
    "\n",
    "from environments.continuous_teaching import ContinuousTeaching\n",
    "from baseline_policies.threshold import Threshold"
   ]
  },
  {
   "cell_type": "code",
   "execution_count": 13,
   "id": "33123c6b",
   "metadata": {},
   "outputs": [],
   "source": [
    "%config InlineBackend.figure_format = \"retina\"\n",
    "sns.set()"
   ]
  },
  {
   "cell_type": "code",
   "execution_count": 14,
   "id": "23ce6ff0",
   "metadata": {},
   "outputs": [
    {
     "data": {
      "text/html": [
       "<div>\n",
       "<style scoped>\n",
       "    .dataframe tbody tr th:only-of-type {\n",
       "        vertical-align: middle;\n",
       "    }\n",
       "\n",
       "    .dataframe tbody tr th {\n",
       "        vertical-align: top;\n",
       "    }\n",
       "\n",
       "    .dataframe thead th {\n",
       "        text-align: right;\n",
       "    }\n",
       "</style>\n",
       "<table border=\"1\" class=\"dataframe\">\n",
       "  <thead>\n",
       "    <tr style=\"text-align: right;\">\n",
       "      <th></th>\n",
       "      <th>mu1</th>\n",
       "      <th>sigma_u1</th>\n",
       "      <th>sigma_w1</th>\n",
       "      <th>mu2</th>\n",
       "      <th>sigma_u2</th>\n",
       "      <th>sigma_w2</th>\n",
       "    </tr>\n",
       "  </thead>\n",
       "  <tbody>\n",
       "    <tr>\n",
       "      <th>unconstrained</th>\n",
       "      <td>-5.661843</td>\n",
       "      <td>1.844262</td>\n",
       "      <td>1.616331</td>\n",
       "      <td>-0.723793</td>\n",
       "      <td>1.720237</td>\n",
       "      <td>1.218074</td>\n",
       "    </tr>\n",
       "  </tbody>\n",
       "</table>\n",
       "</div>"
      ],
      "text/plain": [
       "                    mu1  sigma_u1  sigma_w1       mu2  sigma_u2  sigma_w2\n",
       "unconstrained -5.661843  1.844262  1.616331 -0.723793  1.720237  1.218074"
      ]
     },
     "execution_count": 14,
     "metadata": {},
     "output_type": "execute_result"
    }
   ],
   "source": [
    "df_param = pd.read_csv(\"data/param_exp_data.csv\", index_col=0)\n",
    "df_param"
   ]
  },
  {
   "cell_type": "code",
   "execution_count": 22,
   "id": "f01ca018",
   "metadata": {},
   "outputs": [],
   "source": [
    "def generate_param(n_u, n_w, df_param):\n",
    "    \n",
    "    mu = np.array([df_param.loc[\"unconstrained\", f\"mu{i}\"] for i in range(1, 3)])\n",
    "    sg_u = np.array([df_param.loc[\"unconstrained\", f\"sigma_u{i}\"] for i in range(1, 3)])\n",
    "    sg_w = np.array([df_param.loc[\"unconstrained\", f\"sigma_w{i}\"] for i in range(1, 3)])\n",
    "    \n",
    "    Zu = np.random.normal(np.zeros(2), sg_u, size=(n_u, 2))\n",
    "    Zw = np.random.normal(np.zeros(2), sg_w, size=(n_w, 2))\n",
    "    \n",
    "    return mu, Zu, Zw"
   ]
  },
  {
   "cell_type": "code",
   "execution_count": 31,
   "id": "de4d0d92",
   "metadata": {},
   "outputs": [],
   "source": [
    "def p_recall(u: int, w: int, r: int, x: Union[int, float], Zu: np.ndarray, Zw: np.ndarray, mu=np.ndarray):\n",
    "    \n",
    "    \"\"\"\n",
    "\n",
    "    :param x: time elapsed since last presentation\n",
    "    :param r: number of repetition (number of presentation - 1)\n",
    "    :param u: user ID\n",
    "    :param w: item ID\n",
    "    :return: probability of recall\n",
    "    \"\"\"\n",
    "\n",
    "    Za = mu[0] + Zu[u, 0] + Zw[w, 0]\n",
    "    Zb = mu[1] + Zu[u, 1] + Zw[w, 1]\n",
    "\n",
    "    a = np.exp(Za)\n",
    "    b = scipy.special.expit(Zb)\n",
    "    neg_rate = - a * x * (1 - b) ** r\n",
    "    p = np.exp(neg_rate)\n",
    "    return p"
   ]
  },
  {
   "cell_type": "code",
   "execution_count": 33,
   "id": "9eb462c9",
   "metadata": {},
   "outputs": [],
   "source": [
    "n_u = 10\n",
    "n_w = 10\n",
    "mu, Zu, Zw = generate_param(df_param=df_param, n_u=n_u, n_w=n_w)"
   ]
  },
  {
   "cell_type": "code",
   "execution_count": 34,
   "id": "953cb98b",
   "metadata": {},
   "outputs": [
    {
     "data": {
      "text/plain": [
       "0.9962307154707872"
      ]
     },
     "execution_count": 34,
     "metadata": {},
     "output_type": "execute_result"
    }
   ],
   "source": [
    "p_recall(u=0, w=0, r=2, x=3.2, Zu=Zu, Zw=Zw, mu=mu)"
   ]
  },
  {
   "cell_type": "code",
   "execution_count": null,
   "id": "7096196f",
   "metadata": {},
   "outputs": [],
   "source": []
  }
 ],
 "metadata": {
  "kernelspec": {
   "display_name": "Python 3",
   "language": "python",
   "name": "python3"
  },
  "language_info": {
   "codemirror_mode": {
    "name": "ipython",
    "version": 3
   },
   "file_extension": ".py",
   "mimetype": "text/x-python",
   "name": "python",
   "nbconvert_exporter": "python",
   "pygments_lexer": "ipython3",
   "version": "3.9.1"
  },
  "toc": {
   "base_numbering": 1,
   "nav_menu": {},
   "number_sections": true,
   "sideBar": true,
   "skip_h1_title": false,
   "title_cell": "Table of Contents",
   "title_sidebar": "Contents",
   "toc_cell": false,
   "toc_position": {},
   "toc_section_display": true,
   "toc_window_display": false
  }
 },
 "nbformat": 4,
 "nbformat_minor": 5
}
