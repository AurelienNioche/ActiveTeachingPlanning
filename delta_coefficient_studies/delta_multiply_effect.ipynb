{
 "nbformat": 4,
 "nbformat_minor": 5,
 "metadata": {
  "colab": {
   "name": "delta_multiply_effect.ipynb",
   "provenance": [],
   "collapsed_sections": []
  },
  "kernelspec": {
   "display_name": "Python 3 (ipykernel)",
   "language": "python",
   "name": "python3"
  },
  "language_info": {
   "codemirror_mode": {
    "name": "ipython",
    "version": 3
   },
   "file_extension": ".py",
   "mimetype": "text/x-python",
   "name": "python",
   "nbconvert_exporter": "python",
   "pygments_lexer": "ipython3",
   "version": "3.8.10"
  },
  "toc": {
   "base_numbering": 1,
   "nav_menu": {},
   "number_sections": true,
   "sideBar": true,
   "skip_h1_title": false,
   "title_cell": "Table of Contents",
   "title_sidebar": "Contents",
   "toc_cell": false,
   "toc_position": {},
   "toc_section_display": true,
   "toc_window_display": false
  },
  "widgets": {
   "application/vnd.jupyter.widget-state+json": {
    "5f1532f43c654a2ea46609556bb6fe48": {
     "model_module": "@jupyter-widgets/controls",
     "model_name": "HBoxModel",
     "state": {
      "_view_name": "HBoxView",
      "_dom_classes": [],
      "_model_name": "HBoxModel",
      "_view_module": "@jupyter-widgets/controls",
      "_model_module_version": "1.5.0",
      "_view_count": null,
      "_view_module_version": "1.5.0",
      "box_style": "",
      "layout": "IPY_MODEL_e5d17a3fd99b4fa1b39b00da2266fb8f",
      "_model_module": "@jupyter-widgets/controls",
      "children": [
       "IPY_MODEL_9ac8b3d4542f402dbad85bac228c08ec",
       "IPY_MODEL_660b6a92ae2e408eab8fed82f204357f"
      ]
     }
    },
    "e5d17a3fd99b4fa1b39b00da2266fb8f": {
     "model_module": "@jupyter-widgets/base",
     "model_name": "LayoutModel",
     "state": {
      "_view_name": "LayoutView",
      "grid_template_rows": null,
      "right": null,
      "justify_content": null,
      "_view_module": "@jupyter-widgets/base",
      "overflow": null,
      "_model_module_version": "1.2.0",
      "_view_count": null,
      "flex_flow": null,
      "width": null,
      "min_width": null,
      "border": null,
      "align_items": null,
      "bottom": null,
      "_model_module": "@jupyter-widgets/base",
      "top": null,
      "grid_column": null,
      "overflow_y": null,
      "overflow_x": null,
      "grid_auto_flow": null,
      "grid_area": null,
      "grid_template_columns": null,
      "flex": null,
      "_model_name": "LayoutModel",
      "justify_items": null,
      "grid_row": null,
      "max_height": null,
      "align_content": null,
      "visibility": null,
      "align_self": null,
      "height": null,
      "min_height": null,
      "padding": null,
      "grid_auto_rows": null,
      "grid_gap": null,
      "max_width": null,
      "order": null,
      "_view_module_version": "1.2.0",
      "grid_template_areas": null,
      "object_position": null,
      "object_fit": null,
      "grid_auto_columns": null,
      "margin": null,
      "display": null,
      "left": null
     }
    },
    "9ac8b3d4542f402dbad85bac228c08ec": {
     "model_module": "@jupyter-widgets/controls",
     "model_name": "FloatProgressModel",
     "state": {
      "_view_name": "ProgressView",
      "style": "IPY_MODEL_bad5952437af4c9d8f7ed08d5d8ef816",
      "_dom_classes": [],
      "description": "100%",
      "_model_name": "FloatProgressModel",
      "bar_style": "success",
      "max": 100000,
      "_view_module": "@jupyter-widgets/controls",
      "_model_module_version": "1.5.0",
      "value": 100000,
      "_view_count": null,
      "_view_module_version": "1.5.0",
      "orientation": "horizontal",
      "min": 0,
      "description_tooltip": null,
      "_model_module": "@jupyter-widgets/controls",
      "layout": "IPY_MODEL_d9c6c8b0cdef4f7bb4e6b2ac72f935d9"
     }
    },
    "660b6a92ae2e408eab8fed82f204357f": {
     "model_module": "@jupyter-widgets/controls",
     "model_name": "HTMLModel",
     "state": {
      "_view_name": "HTMLView",
      "style": "IPY_MODEL_9f513a999d0649938b34cdfc9c178600",
      "_dom_classes": [],
      "description": "",
      "_model_name": "HTMLModel",
      "placeholder": "​",
      "_view_module": "@jupyter-widgets/controls",
      "_model_module_version": "1.5.0",
      "value": " 100000/100000 [05:43&lt;00:00, 291.50it/s, average-reward=0.2667, max-reward=0.3333]",
      "_view_count": null,
      "_view_module_version": "1.5.0",
      "description_tooltip": null,
      "_model_module": "@jupyter-widgets/controls",
      "layout": "IPY_MODEL_4ab0bb1368dc49529ec9c44e0d00fee2"
     }
    },
    "bad5952437af4c9d8f7ed08d5d8ef816": {
     "model_module": "@jupyter-widgets/controls",
     "model_name": "ProgressStyleModel",
     "state": {
      "_view_name": "StyleView",
      "_model_name": "ProgressStyleModel",
      "description_width": "initial",
      "_view_module": "@jupyter-widgets/base",
      "_model_module_version": "1.5.0",
      "_view_count": null,
      "_view_module_version": "1.2.0",
      "bar_color": null,
      "_model_module": "@jupyter-widgets/controls"
     }
    },
    "d9c6c8b0cdef4f7bb4e6b2ac72f935d9": {
     "model_module": "@jupyter-widgets/base",
     "model_name": "LayoutModel",
     "state": {
      "_view_name": "LayoutView",
      "grid_template_rows": null,
      "right": null,
      "justify_content": null,
      "_view_module": "@jupyter-widgets/base",
      "overflow": null,
      "_model_module_version": "1.2.0",
      "_view_count": null,
      "flex_flow": null,
      "width": null,
      "min_width": null,
      "border": null,
      "align_items": null,
      "bottom": null,
      "_model_module": "@jupyter-widgets/base",
      "top": null,
      "grid_column": null,
      "overflow_y": null,
      "overflow_x": null,
      "grid_auto_flow": null,
      "grid_area": null,
      "grid_template_columns": null,
      "flex": null,
      "_model_name": "LayoutModel",
      "justify_items": null,
      "grid_row": null,
      "max_height": null,
      "align_content": null,
      "visibility": null,
      "align_self": null,
      "height": null,
      "min_height": null,
      "padding": null,
      "grid_auto_rows": null,
      "grid_gap": null,
      "max_width": null,
      "order": null,
      "_view_module_version": "1.2.0",
      "grid_template_areas": null,
      "object_position": null,
      "object_fit": null,
      "grid_auto_columns": null,
      "margin": null,
      "display": null,
      "left": null
     }
    },
    "9f513a999d0649938b34cdfc9c178600": {
     "model_module": "@jupyter-widgets/controls",
     "model_name": "DescriptionStyleModel",
     "state": {
      "_view_name": "StyleView",
      "_model_name": "DescriptionStyleModel",
      "description_width": "",
      "_view_module": "@jupyter-widgets/base",
      "_model_module_version": "1.5.0",
      "_view_count": null,
      "_view_module_version": "1.2.0",
      "_model_module": "@jupyter-widgets/controls"
     }
    },
    "4ab0bb1368dc49529ec9c44e0d00fee2": {
     "model_module": "@jupyter-widgets/base",
     "model_name": "LayoutModel",
     "state": {
      "_view_name": "LayoutView",
      "grid_template_rows": null,
      "right": null,
      "justify_content": null,
      "_view_module": "@jupyter-widgets/base",
      "overflow": null,
      "_model_module_version": "1.2.0",
      "_view_count": null,
      "flex_flow": null,
      "width": null,
      "min_width": null,
      "border": null,
      "align_items": null,
      "bottom": null,
      "_model_module": "@jupyter-widgets/base",
      "top": null,
      "grid_column": null,
      "overflow_y": null,
      "overflow_x": null,
      "grid_auto_flow": null,
      "grid_area": null,
      "grid_template_columns": null,
      "flex": null,
      "_model_name": "LayoutModel",
      "justify_items": null,
      "grid_row": null,
      "max_height": null,
      "align_content": null,
      "visibility": null,
      "align_self": null,
      "height": null,
      "min_height": null,
      "padding": null,
      "grid_auto_rows": null,
      "grid_gap": null,
      "max_width": null,
      "order": null,
      "_view_module_version": "1.2.0",
      "grid_template_areas": null,
      "object_position": null,
      "object_fit": null,
      "grid_auto_columns": null,
      "margin": null,
      "display": null,
      "left": null
     }
    },
    "43873c47836d46c381eb86e6df205329": {
     "model_module": "@jupyter-widgets/controls",
     "model_name": "HBoxModel",
     "state": {
      "_view_name": "HBoxView",
      "_dom_classes": [],
      "_model_name": "HBoxModel",
      "_view_module": "@jupyter-widgets/controls",
      "_model_module_version": "1.5.0",
      "_view_count": null,
      "_view_module_version": "1.5.0",
      "box_style": "",
      "layout": "IPY_MODEL_4d110177716b426bb088afcb319af14c",
      "_model_module": "@jupyter-widgets/controls",
      "children": [
       "IPY_MODEL_37052e6cfc4f47d69b817ec47f4f5f72",
       "IPY_MODEL_278b33f65ce5407fba45fef25181b7b7"
      ]
     }
    },
    "4d110177716b426bb088afcb319af14c": {
     "model_module": "@jupyter-widgets/base",
     "model_name": "LayoutModel",
     "state": {
      "_view_name": "LayoutView",
      "grid_template_rows": null,
      "right": null,
      "justify_content": null,
      "_view_module": "@jupyter-widgets/base",
      "overflow": null,
      "_model_module_version": "1.2.0",
      "_view_count": null,
      "flex_flow": null,
      "width": null,
      "min_width": null,
      "border": null,
      "align_items": null,
      "bottom": null,
      "_model_module": "@jupyter-widgets/base",
      "top": null,
      "grid_column": null,
      "overflow_y": null,
      "overflow_x": null,
      "grid_auto_flow": null,
      "grid_area": null,
      "grid_template_columns": null,
      "flex": null,
      "_model_name": "LayoutModel",
      "justify_items": null,
      "grid_row": null,
      "max_height": null,
      "align_content": null,
      "visibility": null,
      "align_self": null,
      "height": null,
      "min_height": null,
      "padding": null,
      "grid_auto_rows": null,
      "grid_gap": null,
      "max_width": null,
      "order": null,
      "_view_module_version": "1.2.0",
      "grid_template_areas": null,
      "object_position": null,
      "object_fit": null,
      "grid_auto_columns": null,
      "margin": null,
      "display": null,
      "left": null
     }
    },
    "37052e6cfc4f47d69b817ec47f4f5f72": {
     "model_module": "@jupyter-widgets/controls",
     "model_name": "FloatProgressModel",
     "state": {
      "_view_name": "ProgressView",
      "style": "IPY_MODEL_05d65a72cfc34922b74ea09ab38b73f1",
      "_dom_classes": [],
      "description": "100%",
      "_model_name": "FloatProgressModel",
      "bar_style": "success",
      "max": 100000,
      "_view_module": "@jupyter-widgets/controls",
      "_model_module_version": "1.5.0",
      "value": 100000,
      "_view_count": null,
      "_view_module_version": "1.5.0",
      "orientation": "horizontal",
      "min": 0,
      "description_tooltip": null,
      "_model_module": "@jupyter-widgets/controls",
      "layout": "IPY_MODEL_fab477c768f64ec6afe2a73bd2b59dc5"
     }
    },
    "278b33f65ce5407fba45fef25181b7b7": {
     "model_module": "@jupyter-widgets/controls",
     "model_name": "HTMLModel",
     "state": {
      "_view_name": "HTMLView",
      "style": "IPY_MODEL_bcfaa11d463e4e10b461da599a0caf3c",
      "_dom_classes": [],
      "description": "",
      "_model_name": "HTMLModel",
      "placeholder": "​",
      "_view_module": "@jupyter-widgets/controls",
      "_model_module_version": "1.5.0",
      "value": " 100000/100000 [02:52&lt;00:00, 580.60it/s, average-reward=0.4153, max-reward=0.5333]",
      "_view_count": null,
      "_view_module_version": "1.5.0",
      "description_tooltip": null,
      "_model_module": "@jupyter-widgets/controls",
      "layout": "IPY_MODEL_162e2a3aeab5461492f8effdfec152a9"
     }
    },
    "05d65a72cfc34922b74ea09ab38b73f1": {
     "model_module": "@jupyter-widgets/controls",
     "model_name": "ProgressStyleModel",
     "state": {
      "_view_name": "StyleView",
      "_model_name": "ProgressStyleModel",
      "description_width": "initial",
      "_view_module": "@jupyter-widgets/base",
      "_model_module_version": "1.5.0",
      "_view_count": null,
      "_view_module_version": "1.2.0",
      "bar_color": null,
      "_model_module": "@jupyter-widgets/controls"
     }
    },
    "fab477c768f64ec6afe2a73bd2b59dc5": {
     "model_module": "@jupyter-widgets/base",
     "model_name": "LayoutModel",
     "state": {
      "_view_name": "LayoutView",
      "grid_template_rows": null,
      "right": null,
      "justify_content": null,
      "_view_module": "@jupyter-widgets/base",
      "overflow": null,
      "_model_module_version": "1.2.0",
      "_view_count": null,
      "flex_flow": null,
      "width": null,
      "min_width": null,
      "border": null,
      "align_items": null,
      "bottom": null,
      "_model_module": "@jupyter-widgets/base",
      "top": null,
      "grid_column": null,
      "overflow_y": null,
      "overflow_x": null,
      "grid_auto_flow": null,
      "grid_area": null,
      "grid_template_columns": null,
      "flex": null,
      "_model_name": "LayoutModel",
      "justify_items": null,
      "grid_row": null,
      "max_height": null,
      "align_content": null,
      "visibility": null,
      "align_self": null,
      "height": null,
      "min_height": null,
      "padding": null,
      "grid_auto_rows": null,
      "grid_gap": null,
      "max_width": null,
      "order": null,
      "_view_module_version": "1.2.0",
      "grid_template_areas": null,
      "object_position": null,
      "object_fit": null,
      "grid_auto_columns": null,
      "margin": null,
      "display": null,
      "left": null
     }
    },
    "bcfaa11d463e4e10b461da599a0caf3c": {
     "model_module": "@jupyter-widgets/controls",
     "model_name": "DescriptionStyleModel",
     "state": {
      "_view_name": "StyleView",
      "_model_name": "DescriptionStyleModel",
      "description_width": "",
      "_view_module": "@jupyter-widgets/base",
      "_model_module_version": "1.5.0",
      "_view_count": null,
      "_view_module_version": "1.2.0",
      "_model_module": "@jupyter-widgets/controls"
     }
    },
    "162e2a3aeab5461492f8effdfec152a9": {
     "model_module": "@jupyter-widgets/base",
     "model_name": "LayoutModel",
     "state": {
      "_view_name": "LayoutView",
      "grid_template_rows": null,
      "right": null,
      "justify_content": null,
      "_view_module": "@jupyter-widgets/base",
      "overflow": null,
      "_model_module_version": "1.2.0",
      "_view_count": null,
      "flex_flow": null,
      "width": null,
      "min_width": null,
      "border": null,
      "align_items": null,
      "bottom": null,
      "_model_module": "@jupyter-widgets/base",
      "top": null,
      "grid_column": null,
      "overflow_y": null,
      "overflow_x": null,
      "grid_auto_flow": null,
      "grid_area": null,
      "grid_template_columns": null,
      "flex": null,
      "_model_name": "LayoutModel",
      "justify_items": null,
      "grid_row": null,
      "max_height": null,
      "align_content": null,
      "visibility": null,
      "align_self": null,
      "height": null,
      "min_height": null,
      "padding": null,
      "grid_auto_rows": null,
      "grid_gap": null,
      "max_width": null,
      "order": null,
      "_view_module_version": "1.2.0",
      "grid_template_areas": null,
      "object_position": null,
      "object_fit": null,
      "grid_auto_columns": null,
      "margin": null,
      "display": null,
      "left": null
     }
    }
   }
  }
 },
 "cells": [
  {
   "cell_type": "code",
   "metadata": {
    "id": "238c3d12",
    "executionInfo": {
     "status": "ok",
     "timestamp": 1626094664225,
     "user_tz": -180,
     "elapsed": 10784,
     "user": {
      "displayName": "Sina Rismanchian",
      "photoUrl": "https://lh3.googleusercontent.com/a-/AOh14GjRzM_Vf1P5QOTKIwYalmVJxdw_3RgjLbVC9oba8g=s64",
      "userId": "03588793886233349571"
     }
    }
   },
   "source": [
    "import numpy as np\n",
    "import pandas as pd\n",
    "\n",
    "import matplotlib.pyplot as plt\n",
    "import plotly.express as px \n",
    "import seaborn as sns\n",
    "\n",
    "import torch\n",
    "\n",
    "import gym\n",
    "\n",
    "from a2c.a2c import A2C\n",
    "from a2c.callback import ProgressBarCallback\n",
    "\n",
    "from baseline_policies.threshold import Threshold\n",
    "\n",
    "from environments.continuous_teaching import ContinuousTeaching\n",
    "from environments.discontinuous_teaching import DiscontinuousTeaching\n",
    "\n",
    "import random\n",
    "\n",
    "from human_agents import generate_agents"
   ],
   "id": "238c3d12",
   "execution_count": 3,
   "outputs": []
  },
  {
   "cell_type": "code",
   "metadata": {
    "id": "969daf70"
   },
   "source": [
    "%config InlineBackend.figure_format = \"retina\"\n",
    "sns.set()"
   ],
   "id": "969daf70",
   "execution_count": null,
   "outputs": []
  },
  {
   "cell_type": "code",
   "metadata": {
    "id": "4f7a0482",
    "executionInfo": {
     "status": "ok",
     "timestamp": 1626094668102,
     "user_tz": -180,
     "elapsed": 347,
     "user": {
      "displayName": "Sina Rismanchian",
      "photoUrl": "https://lh3.googleusercontent.com/a-/AOh14GjRzM_Vf1P5QOTKIwYalmVJxdw_3RgjLbVC9oba8g=s64",
      "userId": "03588793886233349571"
     }
    }
   },
   "source": [
    "def run_one_episode(env, policy):\n",
    "    rewards = []\n",
    "    actions = []\n",
    "\n",
    "    obs = env.reset()\n",
    "    while True:\n",
    "        action = policy.act(obs)\n",
    "        obs, reward, done, info = env.step(action)\n",
    "\n",
    "        rewards.append(reward)\n",
    "        actions.append(action)\n",
    "\n",
    "        if done:\n",
    "            obs = env.reset()\n",
    "            break\n",
    "            \n",
    "    return rewards, actions"
   ],
   "id": "4f7a0482",
   "execution_count": 4,
   "outputs": []
  },
  {
   "cell_type": "markdown",
   "metadata": {
    "id": "4a7fc807"
   },
   "source": [
    "# Without breaks"
   ],
   "id": "4a7fc807"
  },
  {
   "cell_type": "code",
   "metadata": {
    "id": "eZ-HORIF23Nh",
    "executionInfo": {
     "status": "ok",
     "timestamp": 1626096161446,
     "user_tz": -180,
     "elapsed": 302,
     "user": {
      "displayName": "Sina Rismanchian",
      "photoUrl": "https://lh3.googleusercontent.com/a-/AOh14GjRzM_Vf1P5QOTKIwYalmVJxdw_3RgjLbVC9oba8g=s64",
      "userId": "03588793886233349571"
     }
    }
   },
   "source": [
    "n_users = 100\n",
    "n_items = 30\n",
    "random.seed(123)\n",
    "user = random.randint(0, n_users)\n",
    "forget_rates, repetition_rates = generate_agents(n_users, n_items)"
   ],
   "id": "eZ-HORIF23Nh",
   "execution_count": 26,
   "outputs": []
  },
  {
   "cell_type": "code",
   "metadata": {
    "colab": {
     "base_uri": "https://localhost:8080/"
    },
    "id": "Ch6jDMPqqn9g",
    "executionInfo": {
     "status": "ok",
     "timestamp": 1626096164077,
     "user_tz": -180,
     "elapsed": 11,
     "user": {
      "displayName": "Sina Rismanchian",
      "photoUrl": "https://lh3.googleusercontent.com/a-/AOh14GjRzM_Vf1P5QOTKIwYalmVJxdw_3RgjLbVC9oba8g=s64",
      "userId": "03588793886233349571"
     }
    },
    "outputId": "5da2ed67-df5b-451d-8f4c-2aac35ffc001"
   },
   "source": [
    "print(\"forget\", forget_rates[user].mean())\n",
    "print(\"repeat\", repetition_rates[user].mean())"
   ],
   "id": "Ch6jDMPqqn9g",
   "execution_count": 27,
   "outputs": [
    {
     "output_type": "stream",
     "text": [
      "forget 0.018778361369110604\n",
      "repeat 0.027150216388525286\n"
     ],
     "name": "stdout"
    }
   ]
  },
  {
   "cell_type": "code",
   "metadata": {
    "id": "r5R2fBHe0PUJ",
    "executionInfo": {
     "status": "ok",
     "timestamp": 1626101154064,
     "user_tz": -180,
     "elapsed": 297,
     "user": {
      "displayName": "Sina Rismanchian",
      "photoUrl": "https://lh3.googleusercontent.com/a-/AOh14GjRzM_Vf1P5QOTKIwYalmVJxdw_3RgjLbVC9oba8g=s64",
      "userId": "03588793886233349571"
     }
    }
   },
   "source": [
    "interval = 100"
   ],
   "id": "r5R2fBHe0PUJ",
   "execution_count": 41,
   "outputs": []
  },
  {
   "cell_type": "code",
   "metadata": {
    "id": "a2eb1132",
    "colab": {
     "base_uri": "https://localhost:8080/",
     "height": 392,
     "referenced_widgets": [
      "5f1532f43c654a2ea46609556bb6fe48",
      "e5d17a3fd99b4fa1b39b00da2266fb8f",
      "9ac8b3d4542f402dbad85bac228c08ec",
      "660b6a92ae2e408eab8fed82f204357f",
      "bad5952437af4c9d8f7ed08d5d8ef816",
      "d9c6c8b0cdef4f7bb4e6b2ac72f935d9",
      "9f513a999d0649938b34cdfc9c178600",
      "4ab0bb1368dc49529ec9c44e0d00fee2",
      "43873c47836d46c381eb86e6df205329",
      "4d110177716b426bb088afcb319af14c",
      "37052e6cfc4f47d69b817ec47f4f5f72",
      "278b33f65ce5407fba45fef25181b7b7",
      "05d65a72cfc34922b74ea09ab38b73f1",
      "fab477c768f64ec6afe2a73bd2b59dc5",
      "bcfaa11d463e4e10b461da599a0caf3c",
      "162e2a3aeab5461492f8effdfec152a9"
     ]
    },
    "executionInfo": {
     "status": "ok",
     "timestamp": 1626101501676,
     "user_tz": -180,
     "elapsed": 343743,
     "user": {
      "displayName": "Sina Rismanchian",
      "photoUrl": "https://lh3.googleusercontent.com/a-/AOh14GjRzM_Vf1P5QOTKIwYalmVJxdw_3RgjLbVC9oba8g=s64",
      "userId": "03588793886233349571"
     }
    },
    "outputId": "dd3de9a5-ef3b-4f3d-cfa9-2ae0a5d1d472"
   },
   "source": [
    "fig, axs = plt.subplots(1, 2)\n",
    "fig.suptitle('coeff = {}, forget = {}, repeat = {}'.\n",
    "             format(interval, forget_rates[user].mean(), repetition_rates[user].mean()))\n",
    "\n",
    "for i, multiply_delta in enumerate([False, True]):\n",
    "    env = ContinuousTeaching(\n",
    "        t_max=100,\n",
    "        initial_forget_rates=forget_rates[user],\n",
    "        initial_repetition_rates=repetition_rates[user],\n",
    "        n_item=n_items,\n",
    "        interval=interval,\n",
    "        multiply_delta=multiply_delta,\n",
    "        tau=0.9)\n",
    "    \n",
    "    model = A2C(env, seed=123)\n",
    "\n",
    "    iterations = env.t_max * 1000\n",
    "    check_freq = env.t_max\n",
    "\n",
    "    with ProgressBarCallback(env, check_freq) as callback:\n",
    "        model.learn(iterations, callback=callback)\n",
    "        axs[i].plot([np.mean(r) for r in callback.hist_rewards])\n",
    "        axs[i].set_title('{}'.format(multiply_delta))"
   ],
   "id": "a2eb1132",
   "execution_count": 42,
   "outputs": [
    {
     "output_type": "display_data",
     "data": {
      "application/vnd.jupyter.widget-view+json": {
       "model_id": "5f1532f43c654a2ea46609556bb6fe48",
       "version_minor": 0,
       "version_major": 2
      },
      "text/plain": [
       "HBox(children=(FloatProgress(value=1.0, bar_style='info', max=1.0), HTML(value='')))"
      ]
     },
     "metadata": {
      "tags": []
     }
    },
    {
     "output_type": "stream",
     "text": [
      "\n"
     ],
     "name": "stdout"
    },
    {
     "output_type": "display_data",
     "data": {
      "application/vnd.jupyter.widget-view+json": {
       "model_id": "43873c47836d46c381eb86e6df205329",
       "version_minor": 0,
       "version_major": 2
      },
      "text/plain": [
       "HBox(children=(FloatProgress(value=1.0, bar_style='info', max=1.0), HTML(value='')))"
      ]
     },
     "metadata": {
      "tags": []
     }
    },
    {
     "output_type": "stream",
     "text": [
      "\n"
     ],
     "name": "stdout"
    },
    {
     "output_type": "display_data",
     "data": {
      "image/png": "[encoded data removed]",
      "text/plain": [
       "<Figure size 432x288 with 2 Axes>"
      ]
     },
     "metadata": {
      "tags": [],
      "needs_background": "light"
     }
    }
   ]
  },
  {
   "cell_type": "code",
   "metadata": {
    "id": "qwjXuYsAzHc6"
   },
   "source": [],
   "id": "qwjXuYsAzHc6",
   "execution_count": null,
   "outputs": []
  },
  {
   "cell_type": "code",
   "metadata": {
    "colab": {
     "base_uri": "https://localhost:8080/",
     "height": 282
    },
    "id": "facfceb5",
    "executionInfo": {
     "status": "ok",
     "timestamp": 1626098850745,
     "user_tz": -180,
     "elapsed": 384,
     "user": {
      "displayName": "Sina Rismanchian",
      "photoUrl": "https://lh3.googleusercontent.com/a-/AOh14GjRzM_Vf1P5QOTKIwYalmVJxdw_3RgjLbVC9oba8g=s64",
      "userId": "03588793886233349571"
     }
    },
    "outputId": "77a4db9c-6509-482d-cd45-6eb86f3aea62",
    "pycharm": {
     "name": "#%%\n"
    }
   },
   "source": [
    "plt.plot([np.mean(r) for r in callback.hist_rewards])"
   ],
   "id": "facfceb5",
   "execution_count": 33,
   "outputs": [
    {
     "output_type": "execute_result",
     "data": {
      "text/plain": [
       "[<matplotlib.lines.Line2D at 0x7f0f7e7ab210>]"
      ]
     },
     "metadata": {
      "tags": []
     },
     "execution_count": 33
    },
    {
     "output_type": "display_data",
     "data": {
      "image/png": "[encoded data removed]",
      "text/plain": [
       "<Figure size 432x288 with 1 Axes>"
      ]
     },
     "metadata": {
      "tags": [],
      "needs_background": "light"
     }
    }
   ]
  }
 ]
}